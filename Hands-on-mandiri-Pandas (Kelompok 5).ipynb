{
 "cells": [
  {
   "cell_type": "markdown",
   "metadata": {
    "id": "-IycjpxksDw7",
    "tags": []
   },
   "source": [
    "# TUGAS\n",
    "# Pengenalan Dasar Library Pandas\n",
    "\n",
    "Kelompok 5\n",
    "\n",
    "1. Daffa Nurul Aditya Putra Sapturi\n",
    "2. Hernando Alexander\n",
    "3. Nugraha Fadila\n",
    "4. Rafi Ainul Yaqin\n",
    "5. Ulul Albab\n",
    "\n"
   ]
  },
  {
   "cell_type": "markdown",
   "metadata": {
    "executionInfo": {
     "elapsed": 6,
     "status": "ok",
     "timestamp": 1699396532800,
     "user": {
      "displayName": "Anneke Annassia",
      "userId": "06690740510961746081"
     },
     "user_tz": -420
    },
    "id": "teOSNgkisDxD",
    "tags": []
   },
   "source": [
    "# import libraries"
   ]
  },
  {
   "cell_type": "code",
   "execution_count": null,
   "metadata": {
    "id": "_XDnf7dDkG3L"
   },
   "outputs": [],
   "source": [
    "# Membuat array \"df\" satu dimensi dengan Pandas\n",
    "# nilainya [1,3,4,5]\n",
    "\n",
    "# Membuat dataframe dengan nilai berikut:\n",
    "# 'Nama' : ['Andi', 'Budi', 'Dodo', 'Ema', 'Kari']\n",
    "# 'Nilai' : [80, 20, 90, 40, 55]\n",
    "# 'Kelas' : ['3B', '3A', '3B', '3B', '3A']\n",
    "\n",
    "\n",
    "# Print seluruh baris pada kolom Nama\n",
    "# Sortir data berdasarkan Nilai tertinggi ke Nilai terendah"
   ]
  },
  {
   "cell_type": "code",
   "execution_count": null,
   "metadata": {},
   "outputs": [],
   "source": [
    "import pandas as pd\n",
    "\n",
    "# Membuat array satu dimensi dengan Pandas\n",
    "df = pd.Series([1, 3, 4, 5], name='MyArray')\n",
    "\n",
    "# Menampilkan array\n",
    "print(df)"
   ]
  },
  {
   "cell_type": "code",
   "execution_count": null,
   "metadata": {},
   "outputs": [],
   "source": [
    "# Membuat dataframe\n",
    "data = {'Nama': ['Andi', 'Budi', 'Dodo', 'Ema', 'Kari'],\n",
    "        'Nilai': [80, 20, 90, 40, 55],\n",
    "        'Kelas': ['3B', '3A', '3B', '3B', '3A']}\n",
    "\n",
    "df = pd.DataFrame(data)\n",
    "\n",
    "# Print seluruh baris pada kolom Nama\n",
    "print(df['Nama'])\n",
    "\n",
    "# Sortir data berdasarkan Nilai tertinggi ke Nilai terendah\n",
    "df_sorted = df.sort_values(by='Nilai', ascending=False)\n",
    "print(df_sorted)"
   ]
  },
  {
   "cell_type": "markdown",
   "metadata": {
    "id": "cXMO0mO3kKTW",
    "tags": []
   },
   "source": [
    "# Bermain dengan Real Data\n",
    "1. Download data dari link berikut: https://www.kaggle.com/datasets/ruchi798/data-science-job-salaries/\n",
    "\n",
    "2. Save ds_salaries.csv pada Google Drive\n",
    "\n"
   ]
  },
  {
   "cell_type": "code",
   "execution_count": 5,
   "metadata": {
    "executionInfo": {
     "elapsed": 6,
     "status": "ok",
     "timestamp": 1699396536096,
     "user": {
      "displayName": "Anneke Annassia",
      "userId": "06690740510961746081"
     },
     "user_tz": -420
    },
    "id": "XQu2qotARqrU"
   },
   "outputs": [],
   "source": [
    "# load data ds_salaries.csv dengan nama variabel \"df\""
   ]
  },
  {
   "cell_type": "code",
   "execution_count": 6,
   "metadata": {
    "executionInfo": {
     "elapsed": 350,
     "status": "ok",
     "timestamp": 1699396601192,
     "user": {
      "displayName": "Anneke Annassia",
      "userId": "06690740510961746081"
     },
     "user_tz": -420
    },
    "id": "JMYDfC6j7GL9"
   },
   "outputs": [],
   "source": [
    "# print 5 baris teratas\n",
    "# print 5 baris terakhir"
   ]
  },
  {
   "cell_type": "code",
   "execution_count": null,
   "metadata": {
    "id": "Y-6-tv-e7lNx"
   },
   "outputs": [],
   "source": [
    "# Print nama kolom"
   ]
  },
  {
   "cell_type": "code",
   "execution_count": null,
   "metadata": {
    "id": "AQ8Q9LszfAaJ"
   },
   "outputs": [],
   "source": [
    "# Tampilkan data baris ke 5-10 pada\n",
    "# Tampilkan data baris ke 5-10 pada kolom job_title dan company_location"
   ]
  },
  {
   "cell_type": "code",
   "execution_count": null,
   "metadata": {
    "id": "gspwHMi6fWrA"
   },
   "outputs": [],
   "source": [
    "# Hitung rata-rata salary_in_usd"
   ]
  },
  {
   "cell_type": "code",
   "execution_count": null,
   "metadata": {
    "id": "dYsb7C9yfktj"
   },
   "outputs": [],
   "source": [
    "# Simpan data baris ke 5-20 ke bentuk .csv dengan nama \"sparse.csv\""
   ]
  },
  {
   "cell_type": "code",
   "execution_count": null,
   "metadata": {},
   "outputs": [],
   "source": [
    "# Import library\n",
    "import pandas as pd\n",
    "\n",
    "# Load data ds_salaries.csv dengan nama variabel \"df\"\n",
    "df = pd.read_csv('/path/to/your/ds_salaries.csv')\n",
    "\n",
    "# Print 5 baris teratas\n",
    "print(df.head())\n",
    "\n",
    "# Print 5 baris terakhir\n",
    "print(df.tail())\n",
    "\n",
    "# Print nama kolom\n",
    "print(df.columns)\n",
    "\n",
    "# Tampilkan data baris ke 5-10 pada\n",
    "print(df.iloc[4:9])\n",
    "\n",
    "# Tampilkan data baris ke 5-10 pada kolom job_title dan company_location\n",
    "print(df.loc[4:9, ['job_title', 'company_location']])\n",
    "\n",
    "# Hitung rata-rata salary_in_usd\n",
    "average_salary = df['salary_in_usd'].mean()\n",
    "print(f\"Rata-rata Salary: {average_salary}\")\n",
    "\n",
    "# Simpan data baris ke 5-20 ke bentuk .csv dengan nama \"sparse.csv\"\n",
    "df.iloc[4:19].to_csv('sparse.csv', index=False)"
   ]
  }
 ],
 "metadata": {
  "anaconda-cloud": {},
  "colab": {
   "provenance": [
    {
     "file_id": "1SAqeA513DXD6SsCbYkP2GlFI7YJaF-xO",
     "timestamp": 1699395681221
    }
   ]
  },
  "kernelspec": {
   "display_name": "Python 3 (ipykernel)",
   "language": "python",
   "name": "python3"
  },
  "language_info": {
   "codemirror_mode": {
    "name": "ipython",
    "version": 3
   },
   "file_extension": ".py",
   "mimetype": "text/x-python",
   "name": "python",
   "nbconvert_exporter": "python",
   "pygments_lexer": "ipython3",
   "version": "3.11.5"
  }
 },
 "nbformat": 4,
 "nbformat_minor": 4
}
